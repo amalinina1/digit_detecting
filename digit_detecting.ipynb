{
  "nbformat": 4,
  "nbformat_minor": 0,
  "metadata": {
    "colab": {
      "name": "digit detecting.ipynb",
      "provenance": []
    },
    "kernelspec": {
      "display_name": "Python 3",
      "name": "python3"
    },
    "language_info": {
      "name": "python"
    }
  },
  "cells": [
    {
      "cell_type": "code",
      "metadata": {
        "id": "nKWu3i3628sc"
      },
      "source": [
        "import pandas as pd\n",
        "import numpy as np\n",
        "from tensorflow.keras.datasets import mnist\n",
        "from tensorflow.keras.models import Sequential\n",
        "from tensorflow.keras.layers import Dense\n",
        "from tensorflow.keras.optimizers import Adam\n",
        "from tensorflow.keras import utils\n",
        "from tensorflow.keras.preprocessing import image\n",
        "from google.colab import files\n",
        "import matplotlib.pyplot as plt\n",
        "from PIL import Image\n",
        "%matplotlib inline"
      ],
      "execution_count": 1,
      "outputs": []
    },
    {
      "cell_type": "code",
      "metadata": {
        "colab": {
          "base_uri": "https://localhost:8080/"
        },
        "id": "hihrjkGd4KJz",
        "outputId": "d764064a-5628-4373-ea44-a872a72387f4"
      },
      "source": [
        "(x_train, y_train), (x_test, y_test) = mnist.load_data()"
      ],
      "execution_count": 2,
      "outputs": [
        {
          "output_type": "stream",
          "text": [
            "Downloading data from https://storage.googleapis.com/tensorflow/tf-keras-datasets/mnist.npz\n",
            "11493376/11490434 [==============================] - 0s 0us/step\n"
          ],
          "name": "stdout"
        }
      ]
    },
    {
      "cell_type": "code",
      "metadata": {
        "colab": {
          "base_uri": "https://localhost:8080/",
          "height": 265
        },
        "id": "eGd8L9Sg4dDm",
        "outputId": "d73df249-ae40-4b79-f4c7-36f9e83fd483"
      },
      "source": [
        "n = 555\n",
        "plt.imshow(Image.fromarray(x_train[n]).convert('RGB'))\n",
        "plt.show()"
      ],
      "execution_count": 3,
      "outputs": [
        {
          "output_type": "display_data",
          "data": {
            "image/png": "[encoded data removed]",
            "text/plain": [
              "<Figure size 432x288 with 1 Axes>"
            ]
          },
          "metadata": {
            "tags": [],
            "needs_background": "light"
          }
        }
      ]
    },
    {
      "cell_type": "code",
      "metadata": {
        "colab": {
          "base_uri": "https://localhost:8080/"
        },
        "id": "VfHWUEF64ke7",
        "outputId": "3c1e7e44-9bb2-4755-80f6-39a9568be226"
      },
      "source": [
        "y_train[n]"
      ],
      "execution_count": 4,
      "outputs": [
        {
          "output_type": "execute_result",
          "data": {
            "text/plain": [
              "2"
            ]
          },
          "metadata": {
            "tags": []
          },
          "execution_count": 4
        }
      ]
    },
    {
      "cell_type": "code",
      "metadata": {
        "id": "1M3Fv6L04sx8"
      },
      "source": [
        "x_train = x_train.reshape(60000, 784)"
      ],
      "execution_count": 5,
      "outputs": []
    },
    {
      "cell_type": "code",
      "metadata": {
        "id": "4EOGS6cK42ka"
      },
      "source": [
        "x_test = x_test.reshape(10000, 784)"
      ],
      "execution_count": 6,
      "outputs": []
    },
    {
      "cell_type": "code",
      "metadata": {
        "colab": {
          "base_uri": "https://localhost:8080/"
        },
        "id": "q094gjXQ47uK",
        "outputId": "41a00d1f-2129-4b8d-da45-2856222f5234"
      },
      "source": [
        "x_train"
      ],
      "execution_count": 7,
      "outputs": [
        {
          "output_type": "execute_result",
          "data": {
            "text/plain": [
              "array([[0, 0, 0, ..., 0, 0, 0],\n",
              "       [0, 0, 0, ..., 0, 0, 0],\n",
              "       [0, 0, 0, ..., 0, 0, 0],\n",
              "       ...,\n",
              "       [0, 0, 0, ..., 0, 0, 0],\n",
              "       [0, 0, 0, ..., 0, 0, 0],\n",
              "       [0, 0, 0, ..., 0, 0, 0]], dtype=uint8)"
            ]
          },
          "metadata": {
            "tags": []
          },
          "execution_count": 7
        }
      ]
    },
    {
      "cell_type": "code",
      "metadata": {
        "id": "w09nvkRG5IAR"
      },
      "source": [
        "x_train = x_train.astype('float32')"
      ],
      "execution_count": 8,
      "outputs": []
    },
    {
      "cell_type": "code",
      "metadata": {
        "colab": {
          "base_uri": "https://localhost:8080/"
        },
        "id": "2mQreP7n5PNr",
        "outputId": "cc4bd80b-7092-4e06-e5b2-324a686ff05d"
      },
      "source": [
        "x_train"
      ],
      "execution_count": 9,
      "outputs": [
        {
          "output_type": "execute_result",
          "data": {
            "text/plain": [
              "array([[0., 0., 0., ..., 0., 0., 0.],\n",
              "       [0., 0., 0., ..., 0., 0., 0.],\n",
              "       [0., 0., 0., ..., 0., 0., 0.],\n",
              "       ...,\n",
              "       [0., 0., 0., ..., 0., 0., 0.],\n",
              "       [0., 0., 0., ..., 0., 0., 0.],\n",
              "       [0., 0., 0., ..., 0., 0., 0.]], dtype=float32)"
            ]
          },
          "metadata": {
            "tags": []
          },
          "execution_count": 9
        }
      ]
    },
    {
      "cell_type": "code",
      "metadata": {
        "id": "goELRE0j5Rc8"
      },
      "source": [
        "x_train = x_train / 255"
      ],
      "execution_count": 10,
      "outputs": []
    },
    {
      "cell_type": "code",
      "metadata": {
        "id": "QdvfdyNu5XYd"
      },
      "source": [
        "x_test = x_test.astype('float32')\n",
        "x_test = x_test / 255"
      ],
      "execution_count": 11,
      "outputs": []
    },
    {
      "cell_type": "code",
      "metadata": {
        "id": "5WLAIBJ45dV5"
      },
      "source": [
        "y_train = utils.to_categorical(y_train, 10)\n",
        "y_test = utils.to_categorical(y_test, 10)"
      ],
      "execution_count": 12,
      "outputs": []
    },
    {
      "cell_type": "code",
      "metadata": {
        "colab": {
          "base_uri": "https://localhost:8080/"
        },
        "id": "ixkhPNzO57yx",
        "outputId": "8355ec13-dcb0-44b0-8a05-87cf172e175f"
      },
      "source": [
        "y_train[0]"
      ],
      "execution_count": 13,
      "outputs": [
        {
          "output_type": "execute_result",
          "data": {
            "text/plain": [
              "array([0., 0., 0., 0., 0., 1., 0., 0., 0., 0.], dtype=float32)"
            ]
          },
          "metadata": {
            "tags": []
          },
          "execution_count": 13
        }
      ]
    },
    {
      "cell_type": "code",
      "metadata": {
        "id": "0NAH0tyL6AqR"
      },
      "source": [
        "model = Sequential()"
      ],
      "execution_count": 73,
      "outputs": []
    },
    {
      "cell_type": "code",
      "metadata": {
        "id": "9IEBO7Wh6b6w"
      },
      "source": [
        "model.add(Dense(800, input_dim = 784, activation = \"relu\"))\n",
        "model.add(Dense(400, activation = 'relu'))\n",
        "model.add(Dense(10, activation = 'softmax'))"
      ],
      "execution_count": 74,
      "outputs": []
    },
    {
      "cell_type": "code",
      "metadata": {
        "id": "x1VcLzQp7Ems"
      },
      "source": [
        "model.compile(loss=\"categorical_crossentropy\", optimizer=\"adam\", metrics=[\"accuracy\"])"
      ],
      "execution_count": 75,
      "outputs": []
    },
    {
      "cell_type": "code",
      "metadata": {
        "colab": {
          "base_uri": "https://localhost:8080/"
        },
        "id": "3rEh_Gay7IpF",
        "outputId": "0e622ada-36ca-494b-aebf-5ab38b48c3bd"
      },
      "source": [
        "print(model.summary())"
      ],
      "execution_count": 17,
      "outputs": [
        {
          "output_type": "stream",
          "text": [
            "Model: \"sequential\"\n",
            "_________________________________________________________________\n",
            "Layer (type)                 Output Shape              Param #   \n",
            "=================================================================\n",
            "dense (Dense)                (None, 800)               628000    \n",
            "_________________________________________________________________\n",
            "dense_1 (Dense)              (None, 400)               320400    \n",
            "_________________________________________________________________\n",
            "dense_2 (Dense)              (None, 10)                4010      \n",
            "=================================================================\n",
            "Total params: 952,410\n",
            "Trainable params: 952,410\n",
            "Non-trainable params: 0\n",
            "_________________________________________________________________\n",
            "None\n"
          ],
          "name": "stdout"
        }
      ]
    },
    {
      "cell_type": "code",
      "metadata": {
        "colab": {
          "base_uri": "https://localhost:8080/"
        },
        "id": "Uiiygkei7K87",
        "outputId": "0fc2d4d0-fb46-4eb3-80bc-fdeefdbc7975"
      },
      "source": [
        "model.fit(x_train, y_train, batch_size=128, epochs=15, verbose=1)"
      ],
      "execution_count": 76,
      "outputs": [
        {
          "output_type": "stream",
          "text": [
            "Epoch 1/15\n",
            "469/469 [==============================] - 10s 20ms/step - loss: 0.2031 - accuracy: 0.9394\n",
            "Epoch 2/15\n",
            "469/469 [==============================] - 9s 19ms/step - loss: 0.0741 - accuracy: 0.9772\n",
            "Epoch 3/15\n",
            "469/469 [==============================] - 9s 19ms/step - loss: 0.0481 - accuracy: 0.9843\n",
            "Epoch 4/15\n",
            "469/469 [==============================] - 9s 19ms/step - loss: 0.0329 - accuracy: 0.9893\n",
            "Epoch 5/15\n",
            "469/469 [==============================] - 9s 19ms/step - loss: 0.0255 - accuracy: 0.9917\n",
            "Epoch 6/15\n",
            "469/469 [==============================] - 9s 19ms/step - loss: 0.0217 - accuracy: 0.9930\n",
            "Epoch 7/15\n",
            "469/469 [==============================] - 9s 19ms/step - loss: 0.0186 - accuracy: 0.9937\n",
            "Epoch 8/15\n",
            "469/469 [==============================] - 9s 19ms/step - loss: 0.0153 - accuracy: 0.9948\n",
            "Epoch 9/15\n",
            "469/469 [==============================] - 9s 19ms/step - loss: 0.0160 - accuracy: 0.9951\n",
            "Epoch 10/15\n",
            "469/469 [==============================] - 9s 19ms/step - loss: 0.0118 - accuracy: 0.9961\n",
            "Epoch 11/15\n",
            "469/469 [==============================] - 9s 19ms/step - loss: 0.0125 - accuracy: 0.9959\n",
            "Epoch 12/15\n",
            "469/469 [==============================] - 9s 19ms/step - loss: 0.0072 - accuracy: 0.9979\n",
            "Epoch 13/15\n",
            "469/469 [==============================] - 9s 19ms/step - loss: 0.0142 - accuracy: 0.9953\n",
            "Epoch 14/15\n",
            "469/469 [==============================] - 9s 19ms/step - loss: 0.0080 - accuracy: 0.9975\n",
            "Epoch 15/15\n",
            "469/469 [==============================] - 9s 19ms/step - loss: 0.0096 - accuracy: 0.9971\n"
          ],
          "name": "stdout"
        },
        {
          "output_type": "execute_result",
          "data": {
            "text/plain": [
              "<tensorflow.python.keras.callbacks.History at 0x7fdc38d43d50>"
            ]
          },
          "metadata": {
            "tags": []
          },
          "execution_count": 76
        }
      ]
    },
    {
      "cell_type": "code",
      "metadata": {
        "id": "WBkBe7ay7U59"
      },
      "source": [
        "x = x_test[n]"
      ],
      "execution_count": 19,
      "outputs": []
    },
    {
      "cell_type": "code",
      "metadata": {
        "id": "Vy9gBwwRCx-1"
      },
      "source": [
        "y = y_test[n]"
      ],
      "execution_count": 20,
      "outputs": []
    },
    {
      "cell_type": "code",
      "metadata": {
        "id": "Z6B5TppuCcZY"
      },
      "source": [
        "x = np.expand_dims(x, axis=0)"
      ],
      "execution_count": 21,
      "outputs": []
    },
    {
      "cell_type": "code",
      "metadata": {
        "id": "oRKKLj2VCfvF"
      },
      "source": [
        "prediction = model.predict(x)"
      ],
      "execution_count": 22,
      "outputs": []
    },
    {
      "cell_type": "code",
      "metadata": {
        "colab": {
          "base_uri": "https://localhost:8080/"
        },
        "id": "M7L6lpZpCil5",
        "outputId": "fe45f130-36be-4d2c-ba84-070e4e10e370"
      },
      "source": [
        "print(prediction)"
      ],
      "execution_count": 23,
      "outputs": [
        {
          "output_type": "stream",
          "text": [
            "[[2.4168157e-13 2.6962948e-07 5.9975046e-11 3.8580153e-11 9.9999976e-01\n",
            "  1.4306843e-10 1.7998479e-10 8.9577801e-10 1.6708232e-12 1.0550477e-09]]\n"
          ],
          "name": "stdout"
        }
      ]
    },
    {
      "cell_type": "code",
      "metadata": {
        "id": "O5IzdGYJCm_2"
      },
      "source": [
        "pred = np.argmax(prediction)"
      ],
      "execution_count": 24,
      "outputs": []
    },
    {
      "cell_type": "code",
      "metadata": {
        "colab": {
          "base_uri": "https://localhost:8080/"
        },
        "id": "eLw2PQNACqBX",
        "outputId": "146f64fa-1dd3-4eca-f37b-93f43778dd98"
      },
      "source": [
        "print(pred)"
      ],
      "execution_count": 25,
      "outputs": [
        {
          "output_type": "stream",
          "text": [
            "4\n"
          ],
          "name": "stdout"
        }
      ]
    },
    {
      "cell_type": "code",
      "metadata": {
        "colab": {
          "base_uri": "https://localhost:8080/"
        },
        "id": "OOEG24P4CrlZ",
        "outputId": "489c27ee-6078-4446-8d43-e25a67117ad2"
      },
      "source": [
        "print(y)"
      ],
      "execution_count": 26,
      "outputs": [
        {
          "output_type": "stream",
          "text": [
            "[0. 0. 0. 0. 1. 0. 0. 0. 0. 0.]\n"
          ],
          "name": "stdout"
        }
      ]
    },
    {
      "cell_type": "code",
      "metadata": {
        "colab": {
          "base_uri": "https://localhost:8080/"
        },
        "id": "Xvk-psEkLFs9",
        "outputId": "7b18f6b2-946a-4324-9b9a-4f50e04f8426"
      },
      "source": [
        "acc = model.evaluate(x_test, y_test)[1]"
      ],
      "execution_count": 28,
      "outputs": [
        {
          "output_type": "stream",
          "text": [
            "313/313 [==============================] - 2s 5ms/step - loss: 0.0851 - accuracy: 0.9822\n"
          ],
          "name": "stdout"
        }
      ]
    },
    {
      "cell_type": "code",
      "metadata": {
        "colab": {
          "base_uri": "https://localhost:8080/"
        },
        "id": "qEfWKD2yLdla",
        "outputId": "45f24227-dc42-4dde-c69d-1e061f1d6bd9"
      },
      "source": [
        "acc"
      ],
      "execution_count": 29,
      "outputs": [
        {
          "output_type": "execute_result",
          "data": {
            "text/plain": [
              "0.982200026512146"
            ]
          },
          "metadata": {
            "tags": []
          },
          "execution_count": 29
        }
      ]
    },
    {
      "cell_type": "markdown",
      "metadata": {
        "id": "z1wNBgSpG2cd"
      },
      "source": [
        "###LITE"
      ]
    },
    {
      "cell_type": "markdown",
      "metadata": {
        "id": "Z74mP3SWFnhP"
      },
      "source": [
        "Поменяйте количество нейронов в первом скрытом слое сети, используя следующие значения:\n",
        "\n",
        "    один слой 10 нейронов\n",
        "    один слой 100 нейронов\n",
        "    один слой 5000 нейронов"
      ]
    },
    {
      "cell_type": "code",
      "metadata": {
        "id": "3HXIL55uC3Mn"
      },
      "source": [
        "def detect(x_train, y_train, x_test, y_test, layer, func_act, batch_size):\n",
        "  model = Sequential()\n",
        "  model.add(Dense(layer, input_dim = 784, activation = func_act))\n",
        "  model.add(Dense(400, activation = func_act))\n",
        "  model.add(Dense(10, activation = 'softmax'))\n",
        "  model.compile(loss=\"categorical_crossentropy\", optimizer=\"adam\", metrics=[\"accuracy\"])\n",
        "  model.fit(x_train, y_train, batch_size=batch_size, epochs=15, verbose=1)\n",
        "  acc = model.evaluate(x_test, y_test)[1]\n",
        "  return acc"
      ],
      "execution_count": 40,
      "outputs": []
    },
    {
      "cell_type": "code",
      "metadata": {
        "id": "6rvKfUEwL08F"
      },
      "source": [
        "layers = [10,100,5000]"
      ],
      "execution_count": 41,
      "outputs": []
    },
    {
      "cell_type": "code",
      "metadata": {
        "id": "2ZzKnYF0FkiE"
      },
      "source": [
        "func_act = 'relu'\n",
        "batch_size = 128\n",
        "accuracy_layers = []"
      ],
      "execution_count": 44,
      "outputs": []
    },
    {
      "cell_type": "code",
      "metadata": {
        "colab": {
          "base_uri": "https://localhost:8080/"
        },
        "id": "a7GKtXKSGVXa",
        "outputId": "358a60fa-1275-4a7c-d348-74a59fb44d69"
      },
      "source": [
        "for layer in layers:\n",
        "  print (\"Количество слоев:\", layer)\n",
        "  accuracy_layers.append(detect(x_train, y_train, x_test, y_test, layer, func_act, batch_size))"
      ],
      "execution_count": 45,
      "outputs": [
        {
          "output_type": "stream",
          "text": [
            "Количество слоев: 10\n",
            "Epoch 1/15\n",
            "469/469 [==============================] - 2s 4ms/step - loss: 0.5221 - accuracy: 0.8411\n",
            "Epoch 2/15\n",
            "469/469 [==============================] - 2s 4ms/step - loss: 0.2497 - accuracy: 0.9254\n",
            "Epoch 3/15\n",
            "469/469 [==============================] - 2s 3ms/step - loss: 0.2094 - accuracy: 0.9377\n",
            "Epoch 4/15\n",
            "469/469 [==============================] - 2s 4ms/step - loss: 0.1873 - accuracy: 0.9437\n",
            "Epoch 5/15\n",
            "469/469 [==============================] - 2s 4ms/step - loss: 0.1710 - accuracy: 0.9479\n",
            "Epoch 6/15\n",
            "469/469 [==============================] - 2s 3ms/step - loss: 0.1598 - accuracy: 0.9513\n",
            "Epoch 7/15\n",
            "469/469 [==============================] - 2s 3ms/step - loss: 0.1489 - accuracy: 0.9552\n",
            "Epoch 8/15\n",
            "469/469 [==============================] - 2s 4ms/step - loss: 0.1415 - accuracy: 0.9575\n",
            "Epoch 9/15\n",
            "469/469 [==============================] - 2s 3ms/step - loss: 0.1349 - accuracy: 0.9599\n",
            "Epoch 10/15\n",
            "469/469 [==============================] - 2s 3ms/step - loss: 0.1290 - accuracy: 0.9617\n",
            "Epoch 11/15\n",
            "469/469 [==============================] - 2s 3ms/step - loss: 0.1236 - accuracy: 0.9623\n",
            "Epoch 12/15\n",
            "469/469 [==============================] - 2s 3ms/step - loss: 0.1211 - accuracy: 0.9629\n",
            "Epoch 13/15\n",
            "469/469 [==============================] - 2s 4ms/step - loss: 0.1160 - accuracy: 0.9642\n",
            "Epoch 14/15\n",
            "469/469 [==============================] - 2s 4ms/step - loss: 0.1126 - accuracy: 0.9656\n",
            "Epoch 15/15\n",
            "469/469 [==============================] - 2s 4ms/step - loss: 0.1091 - accuracy: 0.9667\n",
            "313/313 [==============================] - 0s 1ms/step - loss: 0.1503 - accuracy: 0.9556\n",
            "Количество слоев: 100\n",
            "Epoch 1/15\n",
            "469/469 [==============================] - 3s 6ms/step - loss: 0.3193 - accuracy: 0.9081\n",
            "Epoch 2/15\n",
            "469/469 [==============================] - 3s 6ms/step - loss: 0.1291 - accuracy: 0.9622\n",
            "Epoch 3/15\n",
            "469/469 [==============================] - 3s 6ms/step - loss: 0.0874 - accuracy: 0.9733\n",
            "Epoch 4/15\n",
            "469/469 [==============================] - 3s 6ms/step - loss: 0.0659 - accuracy: 0.9799\n",
            "Epoch 5/15\n",
            "469/469 [==============================] - 3s 6ms/step - loss: 0.0519 - accuracy: 0.9833\n",
            "Epoch 6/15\n",
            "469/469 [==============================] - 3s 6ms/step - loss: 0.0409 - accuracy: 0.9873\n",
            "Epoch 7/15\n",
            "469/469 [==============================] - 3s 6ms/step - loss: 0.0331 - accuracy: 0.9893\n",
            "Epoch 8/15\n",
            "469/469 [==============================] - 3s 6ms/step - loss: 0.0265 - accuracy: 0.9918\n",
            "Epoch 9/15\n",
            "469/469 [==============================] - 3s 6ms/step - loss: 0.0237 - accuracy: 0.9925\n",
            "Epoch 10/15\n",
            "469/469 [==============================] - 3s 6ms/step - loss: 0.0201 - accuracy: 0.9936\n",
            "Epoch 11/15\n",
            "469/469 [==============================] - 3s 6ms/step - loss: 0.0164 - accuracy: 0.9945\n",
            "Epoch 12/15\n",
            "469/469 [==============================] - 3s 6ms/step - loss: 0.0161 - accuracy: 0.9946\n",
            "Epoch 13/15\n",
            "469/469 [==============================] - 3s 6ms/step - loss: 0.0123 - accuracy: 0.9961\n",
            "Epoch 14/15\n",
            "469/469 [==============================] - 3s 6ms/step - loss: 0.0120 - accuracy: 0.9960\n",
            "Epoch 15/15\n",
            "469/469 [==============================] - 3s 6ms/step - loss: 0.0142 - accuracy: 0.9952\n",
            "313/313 [==============================] - 1s 2ms/step - loss: 0.0893 - accuracy: 0.9786\n",
            "Количество слоев: 5000\n",
            "Epoch 1/15\n",
            "469/469 [==============================] - 46s 98ms/step - loss: 0.1835 - accuracy: 0.9444\n",
            "Epoch 2/15\n",
            "469/469 [==============================] - 45s 97ms/step - loss: 0.0734 - accuracy: 0.9772\n",
            "Epoch 3/15\n",
            "469/469 [==============================] - 45s 97ms/step - loss: 0.0470 - accuracy: 0.9850\n",
            "Epoch 4/15\n",
            "469/469 [==============================] - 45s 97ms/step - loss: 0.0345 - accuracy: 0.9889\n",
            "Epoch 5/15\n",
            "469/469 [==============================] - 45s 97ms/step - loss: 0.0266 - accuracy: 0.9915\n",
            "Epoch 6/15\n",
            "469/469 [==============================] - 45s 97ms/step - loss: 0.0235 - accuracy: 0.9924\n",
            "Epoch 7/15\n",
            "469/469 [==============================] - 46s 97ms/step - loss: 0.0205 - accuracy: 0.9930\n",
            "Epoch 8/15\n",
            "469/469 [==============================] - 46s 98ms/step - loss: 0.0173 - accuracy: 0.9943\n",
            "Epoch 9/15\n",
            "469/469 [==============================] - 46s 99ms/step - loss: 0.0155 - accuracy: 0.9951\n",
            "Epoch 10/15\n",
            "469/469 [==============================] - 46s 97ms/step - loss: 0.0128 - accuracy: 0.9959\n",
            "Epoch 11/15\n",
            "469/469 [==============================] - 46s 98ms/step - loss: 0.0136 - accuracy: 0.9956\n",
            "Epoch 12/15\n",
            "469/469 [==============================] - 45s 97ms/step - loss: 0.0138 - accuracy: 0.9955\n",
            "Epoch 13/15\n",
            "469/469 [==============================] - 46s 97ms/step - loss: 0.0085 - accuracy: 0.9971\n",
            "Epoch 14/15\n",
            "469/469 [==============================] - 46s 98ms/step - loss: 0.0094 - accuracy: 0.9971\n",
            "Epoch 15/15\n",
            "469/469 [==============================] - 46s 97ms/step - loss: 0.0103 - accuracy: 0.9966\n",
            "313/313 [==============================] - 5s 15ms/step - loss: 0.0946 - accuracy: 0.9813\n"
          ],
          "name": "stdout"
        }
      ]
    },
    {
      "cell_type": "code",
      "metadata": {
        "id": "ugkG6jyCUvJJ"
      },
      "source": [
        "table1 = pd.DataFrame(accuracy_layers, index=layers, columns=['Accuracy'])"
      ],
      "execution_count": 53,
      "outputs": []
    },
    {
      "cell_type": "code",
      "metadata": {
        "colab": {
          "base_uri": "https://localhost:8080/",
          "height": 143
        },
        "id": "wkcJ-fHEVKsX",
        "outputId": "0ee8fbca-88a7-4b39-cf14-176fc87f1987"
      },
      "source": [
        "table1"
      ],
      "execution_count": 54,
      "outputs": [
        {
          "output_type": "execute_result",
          "data": {
            "text/html": [
              "<div>\n",
              "<style scoped>\n",
              "    .dataframe tbody tr th:only-of-type {\n",
              "        vertical-align: middle;\n",
              "    }\n",
              "\n",
              "    .dataframe tbody tr th {\n",
              "        vertical-align: top;\n",
              "    }\n",
              "\n",
              "    .dataframe thead th {\n",
              "        text-align: right;\n",
              "    }\n",
              "</style>\n",
              "<table border=\"1\" class=\"dataframe\">\n",
              "  <thead>\n",
              "    <tr style=\"text-align: right;\">\n",
              "      <th></th>\n",
              "      <th>Accuracy</th>\n",
              "    </tr>\n",
              "  </thead>\n",
              "  <tbody>\n",
              "    <tr>\n",
              "      <th>10</th>\n",
              "      <td>0.9556</td>\n",
              "    </tr>\n",
              "    <tr>\n",
              "      <th>100</th>\n",
              "      <td>0.9786</td>\n",
              "    </tr>\n",
              "    <tr>\n",
              "      <th>5000</th>\n",
              "      <td>0.9813</td>\n",
              "    </tr>\n",
              "  </tbody>\n",
              "</table>\n",
              "</div>"
            ],
            "text/plain": [
              "      Accuracy\n",
              "10      0.9556\n",
              "100     0.9786\n",
              "5000    0.9813"
            ]
          },
          "metadata": {
            "tags": []
          },
          "execution_count": 54
        }
      ]
    },
    {
      "cell_type": "markdown",
      "metadata": {
        "id": "OIMMmWRWWN1q"
      },
      "source": [
        "Поменяйте активационную функцию во всех скрытых слоях с relu на linear."
      ]
    },
    {
      "cell_type": "code",
      "metadata": {
        "id": "miOuS80CVjjM"
      },
      "source": [
        "func_acts = ['relu', 'linear']\n",
        "layer = 800\n",
        "batch_size = 128\n",
        "accuracy_func_acts = []"
      ],
      "execution_count": 55,
      "outputs": []
    },
    {
      "cell_type": "code",
      "metadata": {
        "colab": {
          "base_uri": "https://localhost:8080/"
        },
        "id": "Dpcqq2sMG_4W",
        "outputId": "6121d27d-9497-4f55-de61-312d05e5700d"
      },
      "source": [
        "for func_act in func_acts:\n",
        "  print (\"Функция активации:\", func_act)\n",
        "  accuracy_func_acts.append(detect(x_train, y_train, x_test, y_test, layer, func_act, batch_size))"
      ],
      "execution_count": 56,
      "outputs": [
        {
          "output_type": "stream",
          "text": [
            "Функция активации: relu\n",
            "Epoch 1/15\n",
            "469/469 [==============================] - 10s 19ms/step - loss: 0.2049 - accuracy: 0.9390\n",
            "Epoch 2/15\n",
            "469/469 [==============================] - 9s 20ms/step - loss: 0.0756 - accuracy: 0.9767\n",
            "Epoch 3/15\n",
            "469/469 [==============================] - 9s 20ms/step - loss: 0.0486 - accuracy: 0.9847\n",
            "Epoch 4/15\n",
            "469/469 [==============================] - 9s 19ms/step - loss: 0.0334 - accuracy: 0.9888\n",
            "Epoch 5/15\n",
            "469/469 [==============================] - 9s 19ms/step - loss: 0.0262 - accuracy: 0.9912\n",
            "Epoch 6/15\n",
            "469/469 [==============================] - 9s 20ms/step - loss: 0.0199 - accuracy: 0.9933\n",
            "Epoch 7/15\n",
            "469/469 [==============================] - 9s 20ms/step - loss: 0.0187 - accuracy: 0.9940\n",
            "Epoch 8/15\n",
            "469/469 [==============================] - 9s 20ms/step - loss: 0.0162 - accuracy: 0.9942\n",
            "Epoch 9/15\n",
            "469/469 [==============================] - 9s 20ms/step - loss: 0.0135 - accuracy: 0.9955\n",
            "Epoch 10/15\n",
            "469/469 [==============================] - 9s 20ms/step - loss: 0.0117 - accuracy: 0.9961\n",
            "Epoch 11/15\n",
            "469/469 [==============================] - 9s 20ms/step - loss: 0.0164 - accuracy: 0.9950\n",
            "Epoch 12/15\n",
            "469/469 [==============================] - 9s 20ms/step - loss: 0.0093 - accuracy: 0.9969\n",
            "Epoch 13/15\n",
            "469/469 [==============================] - 9s 19ms/step - loss: 0.0117 - accuracy: 0.9962\n",
            "Epoch 14/15\n",
            "469/469 [==============================] - 9s 20ms/step - loss: 0.0082 - accuracy: 0.9976\n",
            "Epoch 15/15\n",
            "469/469 [==============================] - 9s 20ms/step - loss: 0.0092 - accuracy: 0.9969\n",
            "313/313 [==============================] - 2s 5ms/step - loss: 0.0960 - accuracy: 0.9821\n",
            "Функция активации: linear\n",
            "Epoch 1/15\n",
            "469/469 [==============================] - 9s 19ms/step - loss: 0.3888 - accuracy: 0.8876\n",
            "Epoch 2/15\n",
            "469/469 [==============================] - 9s 19ms/step - loss: 0.3285 - accuracy: 0.9072\n",
            "Epoch 3/15\n",
            "469/469 [==============================] - 9s 19ms/step - loss: 0.3131 - accuracy: 0.9123\n",
            "Epoch 4/15\n",
            "469/469 [==============================] - 9s 19ms/step - loss: 0.3008 - accuracy: 0.9148\n",
            "Epoch 5/15\n",
            "469/469 [==============================] - 9s 19ms/step - loss: 0.2962 - accuracy: 0.9162\n",
            "Epoch 6/15\n",
            "469/469 [==============================] - 9s 19ms/step - loss: 0.2937 - accuracy: 0.9166\n",
            "Epoch 7/15\n",
            "469/469 [==============================] - 9s 19ms/step - loss: 0.2847 - accuracy: 0.9201\n",
            "Epoch 8/15\n",
            "469/469 [==============================] - 9s 19ms/step - loss: 0.2838 - accuracy: 0.9206\n",
            "Epoch 9/15\n",
            "469/469 [==============================] - 9s 19ms/step - loss: 0.2809 - accuracy: 0.9211\n",
            "Epoch 10/15\n",
            "469/469 [==============================] - 9s 19ms/step - loss: 0.2782 - accuracy: 0.9215\n",
            "Epoch 11/15\n",
            "469/469 [==============================] - 9s 19ms/step - loss: 0.2755 - accuracy: 0.9231\n",
            "Epoch 12/15\n",
            "469/469 [==============================] - 9s 19ms/step - loss: 0.2732 - accuracy: 0.9226\n",
            "Epoch 13/15\n",
            "469/469 [==============================] - 9s 19ms/step - loss: 0.2737 - accuracy: 0.9235\n",
            "Epoch 14/15\n",
            "469/469 [==============================] - 9s 19ms/step - loss: 0.2692 - accuracy: 0.9233\n",
            "Epoch 15/15\n",
            "469/469 [==============================] - 9s 19ms/step - loss: 0.2680 - accuracy: 0.9239\n",
            "313/313 [==============================] - 2s 5ms/step - loss: 0.2877 - accuracy: 0.9214\n"
          ],
          "name": "stdout"
        }
      ]
    },
    {
      "cell_type": "code",
      "metadata": {
        "colab": {
          "base_uri": "https://localhost:8080/",
          "height": 112
        },
        "id": "YTmNcy26XP7D",
        "outputId": "6d0f6085-e2d7-4e0e-cf14-761a71f971d4"
      },
      "source": [
        "table2 = pd.DataFrame(accuracy_func_acts, index=func_acts, columns=['Accuracy'])\n",
        "table2"
      ],
      "execution_count": 57,
      "outputs": [
        {
          "output_type": "execute_result",
          "data": {
            "text/html": [
              "<div>\n",
              "<style scoped>\n",
              "    .dataframe tbody tr th:only-of-type {\n",
              "        vertical-align: middle;\n",
              "    }\n",
              "\n",
              "    .dataframe tbody tr th {\n",
              "        vertical-align: top;\n",
              "    }\n",
              "\n",
              "    .dataframe thead th {\n",
              "        text-align: right;\n",
              "    }\n",
              "</style>\n",
              "<table border=\"1\" class=\"dataframe\">\n",
              "  <thead>\n",
              "    <tr style=\"text-align: right;\">\n",
              "      <th></th>\n",
              "      <th>Accuracy</th>\n",
              "    </tr>\n",
              "  </thead>\n",
              "  <tbody>\n",
              "    <tr>\n",
              "      <th>relu</th>\n",
              "      <td>0.9821</td>\n",
              "    </tr>\n",
              "    <tr>\n",
              "      <th>linear</th>\n",
              "      <td>0.9214</td>\n",
              "    </tr>\n",
              "  </tbody>\n",
              "</table>\n",
              "</div>"
            ],
            "text/plain": [
              "        Accuracy\n",
              "relu      0.9821\n",
              "linear    0.9214"
            ]
          },
          "metadata": {
            "tags": []
          },
          "execution_count": 57
        }
      ]
    },
    {
      "cell_type": "markdown",
      "metadata": {
        "id": "hfXh52r2XjdR"
      },
      "source": [
        "Поменяйте размеры batch_size:\n",
        "\n",
        "*   1\n",
        "*   10\n",
        "*   100\n",
        "*   60000"
      ]
    },
    {
      "cell_type": "code",
      "metadata": {
        "id": "_2c6AIXgYJUM"
      },
      "source": [
        "batch_sizes = [1,10,100,60000]\n",
        "layer = 800\n",
        "func_act = 'relu'\n",
        "accuracy_batch_sizes = []"
      ],
      "execution_count": 58,
      "outputs": []
    },
    {
      "cell_type": "code",
      "metadata": {
        "colab": {
          "base_uri": "https://localhost:8080/"
        },
        "id": "HX2_pyarYWPA",
        "outputId": "1fb2a5a7-7702-459d-820e-45ba6b47a0ae"
      },
      "source": [
        "for batch_size in batch_sizes:\n",
        "  print (\"Batch size:\", batch_size)\n",
        "  accuracy_batch_sizes.append(detect(x_train, y_train, x_test, y_test, layer, func_act, batch_size))"
      ],
      "execution_count": 59,
      "outputs": [
        {
          "output_type": "stream",
          "text": [
            "Batch size: 1\n",
            "Epoch 1/15\n",
            "60000/60000 [==============================] - 391s 7ms/step - loss: 0.2822 - accuracy: 0.9273\n",
            "Epoch 2/15\n",
            "60000/60000 [==============================] - 379s 6ms/step - loss: 0.1935 - accuracy: 0.9563\n",
            "Epoch 3/15\n",
            "60000/60000 [==============================] - 377s 6ms/step - loss: 0.1717 - accuracy: 0.9648\n",
            "Epoch 4/15\n",
            "60000/60000 [==============================] - 385s 6ms/step - loss: 0.1569 - accuracy: 0.9682\n",
            "Epoch 5/15\n",
            "60000/60000 [==============================] - 388s 6ms/step - loss: 0.1487 - accuracy: 0.9711\n",
            "Epoch 6/15\n",
            "60000/60000 [==============================] - 384s 6ms/step - loss: 0.1448 - accuracy: 0.9726\n",
            "Epoch 7/15\n",
            "60000/60000 [==============================] - 391s 7ms/step - loss: 0.1421 - accuracy: 0.9748\n",
            "Epoch 8/15\n",
            "60000/60000 [==============================] - 388s 6ms/step - loss: 0.1451 - accuracy: 0.9763\n",
            "Epoch 9/15\n",
            "60000/60000 [==============================] - 388s 6ms/step - loss: 0.1390 - accuracy: 0.9761\n",
            "Epoch 10/15\n",
            "60000/60000 [==============================] - 391s 7ms/step - loss: 0.1497 - accuracy: 0.9745\n",
            "Epoch 11/15\n",
            "60000/60000 [==============================] - 384s 6ms/step - loss: 0.1479 - accuracy: 0.9771\n",
            "Epoch 12/15\n",
            "60000/60000 [==============================] - 384s 6ms/step - loss: 0.1529 - accuracy: 0.9764\n",
            "Epoch 13/15\n",
            "60000/60000 [==============================] - 385s 6ms/step - loss: 0.1604 - accuracy: 0.9750\n",
            "Epoch 14/15\n",
            "60000/60000 [==============================] - 385s 6ms/step - loss: 0.1616 - accuracy: 0.9746\n",
            "Epoch 15/15\n",
            "60000/60000 [==============================] - 384s 6ms/step - loss: 0.1775 - accuracy: 0.9752\n",
            "313/313 [==============================] - 2s 4ms/step - loss: 0.6131 - accuracy: 0.9637\n",
            "Batch size: 10\n",
            "Epoch 1/15\n",
            "6000/6000 [==============================] - 50s 8ms/step - loss: 0.1876 - accuracy: 0.9428\n",
            "Epoch 2/15\n",
            "6000/6000 [==============================] - 49s 8ms/step - loss: 0.0910 - accuracy: 0.9722\n",
            "Epoch 3/15\n",
            "6000/6000 [==============================] - 49s 8ms/step - loss: 0.0708 - accuracy: 0.9779\n",
            "Epoch 4/15\n",
            "6000/6000 [==============================] - 50s 8ms/step - loss: 0.0566 - accuracy: 0.9835\n",
            "Epoch 5/15\n",
            "6000/6000 [==============================] - 51s 8ms/step - loss: 0.0473 - accuracy: 0.9864\n",
            "Epoch 6/15\n",
            "6000/6000 [==============================] - 50s 8ms/step - loss: 0.0454 - accuracy: 0.9880\n",
            "Epoch 7/15\n",
            "6000/6000 [==============================] - 50s 8ms/step - loss: 0.0384 - accuracy: 0.9895\n",
            "Epoch 8/15\n",
            "6000/6000 [==============================] - 49s 8ms/step - loss: 0.0362 - accuracy: 0.9905\n",
            "Epoch 9/15\n",
            "6000/6000 [==============================] - 49s 8ms/step - loss: 0.0352 - accuracy: 0.9912\n",
            "Epoch 10/15\n",
            "6000/6000 [==============================] - 49s 8ms/step - loss: 0.0326 - accuracy: 0.9919\n",
            "Epoch 11/15\n",
            "6000/6000 [==============================] - 50s 8ms/step - loss: 0.0303 - accuracy: 0.9928\n",
            "Epoch 12/15\n",
            "6000/6000 [==============================] - 49s 8ms/step - loss: 0.0314 - accuracy: 0.9926\n",
            "Epoch 13/15\n",
            "6000/6000 [==============================] - 50s 8ms/step - loss: 0.0293 - accuracy: 0.9929\n",
            "Epoch 14/15\n",
            "6000/6000 [==============================] - 50s 8ms/step - loss: 0.0265 - accuracy: 0.9943\n",
            "Epoch 15/15\n",
            "6000/6000 [==============================] - 51s 8ms/step - loss: 0.0256 - accuracy: 0.9942\n",
            "313/313 [==============================] - 2s 5ms/step - loss: 0.1899 - accuracy: 0.9835\n",
            "Batch size: 100\n",
            "Epoch 1/15\n",
            "600/600 [==============================] - 10s 17ms/step - loss: 0.1955 - accuracy: 0.9413\n",
            "Epoch 2/15\n",
            "600/600 [==============================] - 11s 18ms/step - loss: 0.0760 - accuracy: 0.9771\n",
            "Epoch 3/15\n",
            "600/600 [==============================] - 10s 17ms/step - loss: 0.0478 - accuracy: 0.9847\n",
            "Epoch 4/15\n",
            "600/600 [==============================] - 10s 17ms/step - loss: 0.0355 - accuracy: 0.9882\n",
            "Epoch 5/15\n",
            "600/600 [==============================] - 10s 17ms/step - loss: 0.0270 - accuracy: 0.9914\n",
            "Epoch 6/15\n",
            "600/600 [==============================] - 10s 17ms/step - loss: 0.0214 - accuracy: 0.9931\n",
            "Epoch 7/15\n",
            "600/600 [==============================] - 10s 17ms/step - loss: 0.0198 - accuracy: 0.9934\n",
            "Epoch 8/15\n",
            "600/600 [==============================] - 10s 17ms/step - loss: 0.0172 - accuracy: 0.9944\n",
            "Epoch 9/15\n",
            "600/600 [==============================] - 10s 17ms/step - loss: 0.0152 - accuracy: 0.9948\n",
            "Epoch 10/15\n",
            "600/600 [==============================] - 10s 17ms/step - loss: 0.0141 - accuracy: 0.9955\n",
            "Epoch 11/15\n",
            "600/600 [==============================] - 10s 17ms/step - loss: 0.0116 - accuracy: 0.9959\n",
            "Epoch 12/15\n",
            "600/600 [==============================] - 10s 17ms/step - loss: 0.0127 - accuracy: 0.9959\n",
            "Epoch 13/15\n",
            "600/600 [==============================] - 10s 17ms/step - loss: 0.0123 - accuracy: 0.9961\n",
            "Epoch 14/15\n",
            "600/600 [==============================] - 10s 17ms/step - loss: 0.0093 - accuracy: 0.9972\n",
            "Epoch 15/15\n",
            "600/600 [==============================] - 10s 17ms/step - loss: 0.0096 - accuracy: 0.9970\n",
            "313/313 [==============================] - 2s 5ms/step - loss: 0.0949 - accuracy: 0.9804\n",
            "Batch size: 60000\n",
            "Epoch 1/15\n",
            "1/1 [==============================] - 5s 5s/step - loss: 2.3153 - accuracy: 0.1279\n",
            "Epoch 2/15\n",
            "1/1 [==============================] - 5s 5s/step - loss: 1.9198 - accuracy: 0.6510\n",
            "Epoch 3/15\n",
            "1/1 [==============================] - 5s 5s/step - loss: 1.5782 - accuracy: 0.7581\n",
            "Epoch 4/15\n",
            "1/1 [==============================] - 5s 5s/step - loss: 1.2559 - accuracy: 0.7901\n",
            "Epoch 5/15\n",
            "1/1 [==============================] - 5s 5s/step - loss: 0.9832 - accuracy: 0.8047\n",
            "Epoch 6/15\n",
            "1/1 [==============================] - 5s 5s/step - loss: 0.7701 - accuracy: 0.8292\n",
            "Epoch 7/15\n",
            "1/1 [==============================] - 5s 5s/step - loss: 0.6204 - accuracy: 0.8505\n",
            "Epoch 8/15\n",
            "1/1 [==============================] - 5s 5s/step - loss: 0.5270 - accuracy: 0.8595\n",
            "Epoch 9/15\n",
            "1/1 [==============================] - 5s 5s/step - loss: 0.4620 - accuracy: 0.8690\n",
            "Epoch 10/15\n",
            "1/1 [==============================] - 5s 5s/step - loss: 0.4194 - accuracy: 0.8769\n",
            "Epoch 11/15\n",
            "1/1 [==============================] - 5s 5s/step - loss: 0.3902 - accuracy: 0.8849\n",
            "Epoch 12/15\n",
            "1/1 [==============================] - 5s 5s/step - loss: 0.3655 - accuracy: 0.8932\n",
            "Epoch 13/15\n",
            "1/1 [==============================] - 5s 5s/step - loss: 0.3512 - accuracy: 0.8973\n",
            "Epoch 14/15\n",
            "1/1 [==============================] - 4s 4s/step - loss: 0.3346 - accuracy: 0.9028\n",
            "Epoch 15/15\n",
            "1/1 [==============================] - 5s 5s/step - loss: 0.3247 - accuracy: 0.9064\n",
            "313/313 [==============================] - 2s 5ms/step - loss: 0.3102 - accuracy: 0.9158\n"
          ],
          "name": "stdout"
        }
      ]
    },
    {
      "cell_type": "code",
      "metadata": {
        "colab": {
          "base_uri": "https://localhost:8080/",
          "height": 175
        },
        "id": "WPZtQOIuYw0B",
        "outputId": "0feaaf48-537a-4497-ffa6-fac5c586954f"
      },
      "source": [
        "table3 = pd.DataFrame(accuracy_batch_sizes, index=batch_sizes, columns=['Accuracy'])\n",
        "table3"
      ],
      "execution_count": 60,
      "outputs": [
        {
          "output_type": "execute_result",
          "data": {
            "text/html": [
              "<div>\n",
              "<style scoped>\n",
              "    .dataframe tbody tr th:only-of-type {\n",
              "        vertical-align: middle;\n",
              "    }\n",
              "\n",
              "    .dataframe tbody tr th {\n",
              "        vertical-align: top;\n",
              "    }\n",
              "\n",
              "    .dataframe thead th {\n",
              "        text-align: right;\n",
              "    }\n",
              "</style>\n",
              "<table border=\"1\" class=\"dataframe\">\n",
              "  <thead>\n",
              "    <tr style=\"text-align: right;\">\n",
              "      <th></th>\n",
              "      <th>Accuracy</th>\n",
              "    </tr>\n",
              "  </thead>\n",
              "  <tbody>\n",
              "    <tr>\n",
              "      <th>1</th>\n",
              "      <td>0.9637</td>\n",
              "    </tr>\n",
              "    <tr>\n",
              "      <th>10</th>\n",
              "      <td>0.9835</td>\n",
              "    </tr>\n",
              "    <tr>\n",
              "      <th>100</th>\n",
              "      <td>0.9804</td>\n",
              "    </tr>\n",
              "    <tr>\n",
              "      <th>60000</th>\n",
              "      <td>0.9158</td>\n",
              "    </tr>\n",
              "  </tbody>\n",
              "</table>\n",
              "</div>"
            ],
            "text/plain": [
              "       Accuracy\n",
              "1        0.9637\n",
              "10       0.9835\n",
              "100      0.9804\n",
              "60000    0.9158"
            ]
          },
          "metadata": {
            "tags": []
          },
          "execution_count": 60
        }
      ]
    },
    {
      "cell_type": "markdown",
      "metadata": {
        "id": "J6yw-mKQY4uJ"
      },
      "source": [
        "Выводы:\n",
        "\n",
        "\n",
        "1.   Точность увеличивается с увеличением количества слоев \n",
        "2.   Точность выше при использовании функции активации relu\n",
        "3.   Максимальная точность была достигнута при batch_size 10\n",
        "\n"
      ]
    },
    {
      "cell_type": "markdown",
      "metadata": {
        "id": "xUqEdwKT9F8R"
      },
      "source": [
        "####PRO"
      ]
    },
    {
      "cell_type": "markdown",
      "metadata": {
        "id": "v6B27M-PBK0H"
      },
      "source": [
        "Распознайте рукописную цифру, созданную вами с помощью графического редактора (например, Paint)."
      ]
    },
    {
      "cell_type": "code",
      "metadata": {
        "id": "7w1j4utXY3jn"
      },
      "source": [
        "five = image.load_img('five.png', target_size=(28, 28), color_mode = 'grayscale')"
      ],
      "execution_count": 61,
      "outputs": []
    },
    {
      "cell_type": "code",
      "metadata": {
        "id": "Aru9aWlD9e7z"
      },
      "source": [
        "five_array = image.img_to_array(five)"
      ],
      "execution_count": 66,
      "outputs": []
    },
    {
      "cell_type": "code",
      "metadata": {
        "colab": {
          "base_uri": "https://localhost:8080/"
        },
        "id": "DrEWpvPP9f2x",
        "outputId": "6f6e561d-21d7-4c24-d7ad-9b1a40547c89"
      },
      "source": [
        "five_array.shape"
      ],
      "execution_count": 67,
      "outputs": [
        {
          "output_type": "execute_result",
          "data": {
            "text/plain": [
              "(28, 28, 1)"
            ]
          },
          "metadata": {
            "tags": []
          },
          "execution_count": 67
        }
      ]
    },
    {
      "cell_type": "code",
      "metadata": {
        "id": "705JnmYA97Sh"
      },
      "source": [
        "five_array_inv = five_array - 255"
      ],
      "execution_count": 68,
      "outputs": []
    },
    {
      "cell_type": "code",
      "metadata": {
        "id": "NP32Osoo_Tap"
      },
      "source": [
        "five_array_inv_norm = five_array_inv / 255"
      ],
      "execution_count": 70,
      "outputs": []
    },
    {
      "cell_type": "code",
      "metadata": {
        "id": "_aa8csty_WjZ"
      },
      "source": [
        "five_array_inv_norm_reshape = five_array_inv_norm.reshape(1,784)"
      ],
      "execution_count": 78,
      "outputs": []
    },
    {
      "cell_type": "code",
      "metadata": {
        "colab": {
          "base_uri": "https://localhost:8080/"
        },
        "id": "8O-OfRyi_nzB",
        "outputId": "84ee33d4-a91f-4a59-daf5-4f6943bf46e2"
      },
      "source": [
        "five_array_inv_norm_reshape.shape"
      ],
      "execution_count": 79,
      "outputs": [
        {
          "output_type": "execute_result",
          "data": {
            "text/plain": [
              "(1, 784)"
            ]
          },
          "metadata": {
            "tags": []
          },
          "execution_count": 79
        }
      ]
    },
    {
      "cell_type": "code",
      "metadata": {
        "id": "kgSF5yIK_qlZ"
      },
      "source": [
        "prediction = model.predict(five_array_inv_norm_reshape)"
      ],
      "execution_count": 80,
      "outputs": []
    },
    {
      "cell_type": "code",
      "metadata": {
        "id": "chagDMvWAixA"
      },
      "source": [
        "pred = np.argmax(prediction)"
      ],
      "execution_count": 81,
      "outputs": []
    },
    {
      "cell_type": "code",
      "metadata": {
        "colab": {
          "base_uri": "https://localhost:8080/"
        },
        "id": "C7d80DVYA2No",
        "outputId": "3d93d872-b9e0-4db4-ba3b-f91cf7ae8a08"
      },
      "source": [
        "print(pred)"
      ],
      "execution_count": 82,
      "outputs": [
        {
          "output_type": "stream",
          "text": [
            "5\n"
          ],
          "name": "stdout"
        }
      ]
    },
    {
      "cell_type": "markdown",
      "metadata": {
        "id": "tl60DO2yWK3k"
      },
      "source": [
        "Распознавание рукописной цифры из графического редактора удалось."
      ]
    },
    {
      "cell_type": "markdown",
      "metadata": {
        "id": "NE20vyS8A9Rk"
      },
      "source": [
        "####ULTRA PRO"
      ]
    },
    {
      "cell_type": "markdown",
      "metadata": {
        "id": "bj80ksxnBOti"
      },
      "source": [
        "Распознайте рукописную цифру, написанную на листе от руки."
      ]
    },
    {
      "cell_type": "code",
      "metadata": {
        "id": "d6mNy9lzF1j8"
      },
      "source": [
        "layer = 5000\n",
        "batch_size = 100\n",
        "func_act = 'relu'"
      ],
      "execution_count": 107,
      "outputs": []
    },
    {
      "cell_type": "code",
      "metadata": {
        "id": "KcXHyjmwFUEP"
      },
      "source": [
        "def detect(x_train, y_train, layer, func_act, batch_size):\n",
        "  model = Sequential()\n",
        "  model.add(Dense(layer, input_dim = 784, activation = func_act))\n",
        "  model.add(Dense(400, activation = func_act))\n",
        "  model.add(Dense(10, activation = 'softmax'))\n",
        "  model.compile(loss=\"categorical_crossentropy\", optimizer=\"adam\", metrics=[\"accuracy\"])\n",
        "  model.fit(x_train, y_train, batch_size=batch_size, epochs=15, verbose=1)\n",
        "  return model"
      ],
      "execution_count": 103,
      "outputs": []
    },
    {
      "cell_type": "code",
      "metadata": {
        "colab": {
          "base_uri": "https://localhost:8080/"
        },
        "id": "Ocm1VVweGEUg",
        "outputId": "97f6f5e8-f167-4cf5-ed4e-934c923b5cf2"
      },
      "source": [
        "model = detect(x_train, y_train, layer, func_act, batch_size)"
      ],
      "execution_count": 108,
      "outputs": [
        {
          "output_type": "stream",
          "text": [
            "Epoch 1/15\n",
            "600/600 [==============================] - 52s 85ms/step - loss: 0.1801 - accuracy: 0.9447\n",
            "Epoch 2/15\n",
            "600/600 [==============================] - 51s 86ms/step - loss: 0.0728 - accuracy: 0.9770\n",
            "Epoch 3/15\n",
            "600/600 [==============================] - 51s 86ms/step - loss: 0.0488 - accuracy: 0.9843\n",
            "Epoch 4/15\n",
            "600/600 [==============================] - 51s 86ms/step - loss: 0.0371 - accuracy: 0.9882\n",
            "Epoch 5/15\n",
            "600/600 [==============================] - 51s 85ms/step - loss: 0.0284 - accuracy: 0.9908\n",
            "Epoch 6/15\n",
            "600/600 [==============================] - 51s 86ms/step - loss: 0.0229 - accuracy: 0.9926\n",
            "Epoch 7/15\n",
            "600/600 [==============================] - 51s 85ms/step - loss: 0.0197 - accuracy: 0.9933\n",
            "Epoch 8/15\n",
            "600/600 [==============================] - 51s 86ms/step - loss: 0.0170 - accuracy: 0.9943\n",
            "Epoch 9/15\n",
            "600/600 [==============================] - 51s 86ms/step - loss: 0.0172 - accuracy: 0.9947\n",
            "Epoch 10/15\n",
            "600/600 [==============================] - 51s 86ms/step - loss: 0.0154 - accuracy: 0.9952\n",
            "Epoch 11/15\n",
            "600/600 [==============================] - 51s 86ms/step - loss: 0.0130 - accuracy: 0.9960\n",
            "Epoch 12/15\n",
            "600/600 [==============================] - 51s 86ms/step - loss: 0.0125 - accuracy: 0.9962\n",
            "Epoch 13/15\n",
            "600/600 [==============================] - 51s 86ms/step - loss: 0.0150 - accuracy: 0.9952\n",
            "Epoch 14/15\n",
            "600/600 [==============================] - 51s 86ms/step - loss: 0.0079 - accuracy: 0.9977\n",
            "Epoch 15/15\n",
            "600/600 [==============================] - 51s 86ms/step - loss: 0.0107 - accuracy: 0.9967\n"
          ],
          "name": "stdout"
        }
      ]
    },
    {
      "cell_type": "code",
      "metadata": {
        "colab": {
          "base_uri": "https://localhost:8080/"
        },
        "id": "8Z8rsFqaLjoH",
        "outputId": "bc50ff8c-8323-41d0-d18a-82afa8fdecae"
      },
      "source": [
        "acc = model.evaluate(x_test, y_test)[1]"
      ],
      "execution_count": 109,
      "outputs": [
        {
          "output_type": "stream",
          "text": [
            "313/313 [==============================] - 5s 14ms/step - loss: 0.0976 - accuracy: 0.9813\n"
          ],
          "name": "stdout"
        }
      ]
    },
    {
      "cell_type": "code",
      "metadata": {
        "id": "ffDi_IjFLQVO"
      },
      "source": [
        "seven = image.load_img('seven.jpg', target_size=(28, 28), color_mode = 'grayscale')\n",
        "seven_array = image.img_to_array(seven)\n",
        "seven_array_inv = seven_array - 255\n",
        "seven_array_inv_norm = seven_array_inv / 255\n",
        "seven_array_inv_norm_reshape = seven_array_inv_norm.reshape(1,784)"
      ],
      "execution_count": 112,
      "outputs": []
    },
    {
      "cell_type": "code",
      "metadata": {
        "colab": {
          "base_uri": "https://localhost:8080/"
        },
        "id": "jj6qkotSVYHs",
        "outputId": "9d4c0b93-b2d0-432c-9b6d-2012bc12aab5"
      },
      "source": [
        "prediction = model.predict(seven_array_inv_norm_reshape)\n",
        "pred = np.argmax(prediction)\n",
        "print(pred)"
      ],
      "execution_count": 113,
      "outputs": [
        {
          "output_type": "stream",
          "text": [
            "7\n"
          ],
          "name": "stdout"
        }
      ]
    },
    {
      "cell_type": "markdown",
      "metadata": {
        "id": "yIUiWu3MVf-O"
      },
      "source": [
        "Распознавание рукописных цифр очень сильно зависит от чистоты написания. Неаккуратно написанная цифра с большой долей вероятности распознана не будет."
      ]
    },
    {
      "cell_type": "code",
      "metadata": {
        "id": "B94VomYuVc29"
      },
      "source": [
        ""
      ],
      "execution_count": null,
      "outputs": []
    }
  ]
}